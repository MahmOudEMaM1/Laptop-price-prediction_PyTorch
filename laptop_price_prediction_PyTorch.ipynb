{
  "cells": [
    {
      "cell_type": "code",
      "execution_count": 1,
      "metadata": {
        "id": "cNkC9ybaiR6B"
      },
      "outputs": [],
      "source": [
        "import torch\n",
        "import torch.nn as nn\n",
        "import torch.optim as optim\n",
        "from sklearn.model_selection import train_test_split\n",
        "from torch.utils.data import DataLoader, TensorDataset\n",
        "from sklearn.preprocessing import StandardScaler, OneHotEncoder\n",
        "from sklearn.compose import ColumnTransformer\n",
        "from sklearn.pipeline import Pipeline\n",
        "from sklearn.metrics import r2_score\n",
        "import pandas as pd\n",
        "import numpy as np"
      ]
    },
    {
      "cell_type": "code",
      "execution_count": 5,
      "metadata": {
        "id": "zKh-FKRsiaG0"
      },
      "outputs": [],
      "source": [
        "# Load dataset\n",
        "df = pd.read_csv('/content/laptop_price - dataset.csv')\n",
        "\n",
        "# Split \n",
        "X = df.drop('Price (Euro)', axis=1)\n",
        "y = df['Price (Euro)']\n",
        "\n",
        "# List of categorical columns\n",
        "categorical_cols = ['Company', 'Product', 'TypeName', 'ScreenResolution',\n",
        "                    'CPU_Company', 'CPU_Type', 'Memory', 'GPU_Company',\n",
        "                    'GPU_Type', 'OpSys']\n",
        "\n",
        "# List of numerical columns\n",
        "numerical_cols = ['Inches', 'CPU_Frequency (GHz)', 'RAM (GB)', 'Weight (kg)']\n",
        "\n",
        "# Preprocessor to handle both categorical and numerical columns\n",
        "preprocessor = ColumnTransformer(\n",
        "    transformers=[\n",
        "        ('num', StandardScaler(), numerical_cols),\n",
        "        ('cat', OneHotEncoder(handle_unknown='ignore'), categorical_cols)\n",
        "    ])\n",
        "\n",
        "# Preprocess the data \n",
        "X_preprocessed = preprocessor.fit_transform(X)\n",
        "\n",
        "# Convert to tensors\n",
        "X_tensor = torch.tensor(X_preprocessed.toarray(), dtype=torch.float32)\n",
        "y_tensor = torch.tensor(y.values, dtype=torch.float32).view(-1, 1)\n"
      ]
    },
    {
      "cell_type": "code",
      "execution_count": 6,
      "metadata": {
        "id": "9zb1Xi9tgcb_"
      },
      "outputs": [],
      "source": [
        "# Split the data\n",
        "X_train, X_test, y_train, y_test = train_test_split(X_tensor, y_tensor, test_size=0.2, random_state=42)\n",
        "\n",
        "# Create training and testing sets\n",
        "train_dataset = TensorDataset(X_train, y_train)\n",
        "test_dataset = TensorDataset(X_test, y_test)\n",
        "\n",
        "# Create DataLoaders for batching\n",
        "train_loader = DataLoader(dataset=train_dataset, batch_size=32, shuffle=True)\n",
        "test_loader = DataLoader(dataset=test_dataset, batch_size=32, shuffle=False)\n"
      ]
    },
    {
      "cell_type": "code",
      "execution_count": 7,
      "metadata": {
        "id": "hllSHFDKiTA0"
      },
      "outputs": [],
      "source": [
        "# Define the Model\n",
        "class LinearRegressionModel(nn.Module):\n",
        "    def __init__(self, input_dim):\n",
        "        super(LinearRegressionModel, self).__init__()\n",
        "        self.linear = nn.Linear(input_dim, 100)\n",
        "        self.relu = nn.ReLU()\n",
        "        self.linear2 = nn.Linear(100, 1)\n",
        "\n",
        "    def forward(self, x):\n",
        "        out = self.linear(x)\n",
        "        out = self.relu(out)\n",
        "        out = self.linear2(out)\n",
        "        return out\n"
      ]
    },
    {
      "cell_type": "code",
      "execution_count": 8,
      "metadata": {
        "id": "Wbuz4aC4iaMP"
      },
      "outputs": [],
      "source": [
        "\n",
        "# Initialize the model\n",
        "input_dim = X_train.shape[1]\n",
        "model = LinearRegressionModel(input_dim)\n",
        "\n",
        "# Define loss function and optimizer\n",
        "criterion = nn.MSELoss()  \n",
        "optimizer = optim.Adam(model.parameters(), lr=0.01)  \n"
      ]
    },
    {
      "cell_type": "code",
      "execution_count": 9,
      "metadata": {
        "colab": {
          "base_uri": "https://localhost:8080/"
        },
        "id": "JVpy1eWricuC",
        "outputId": "e365bb02-9f3f-4a3a-a662-784a348b8bf7"
      },
      "outputs": [
        {
          "name": "stdout",
          "output_type": "stream",
          "text": [
            "Epoch [100/1000], Loss: 11548.4199\n",
            "Epoch [200/1000], Loss: 4136.7920\n",
            "Epoch [300/1000], Loss: 3429.7136\n",
            "Epoch [400/1000], Loss: 3757.5042\n",
            "Epoch [500/1000], Loss: 9679.5225\n",
            "Epoch [600/1000], Loss: 2350.7661\n",
            "Epoch [700/1000], Loss: 10573.1309\n",
            "Epoch [800/1000], Loss: 631.6229\n",
            "Epoch [900/1000], Loss: 8194.0322\n",
            "Epoch [1000/1000], Loss: 2591.2163\n"
          ]
        }
      ],
      "source": [
        "# Training the Model\n",
        "num_epochs = 1000\n",
        "for epoch in range(num_epochs):\n",
        "    model.train()  \n",
        "    for batch_X, batch_y in train_loader:  \n",
        "        optimizer.zero_grad()\n",
        "\n",
        "        # Forward pass\n",
        "        outputs = model(batch_X)\n",
        "        loss = criterion(outputs, batch_y)\n",
        "\n",
        "        # Backward pass and optimization\n",
        "        loss.backward()\n",
        "        optimizer.step()\n",
        "\n",
        "    if (epoch + 1) % 100 == 0:\n",
        "        print(f'Epoch [{epoch+1}/{num_epochs}], Loss: {loss.item():.4f}')"
      ]
    },
    {
      "cell_type": "code",
      "execution_count": 10,
      "metadata": {
        "colab": {
          "base_uri": "https://localhost:8080/"
        },
        "id": "DnQXTWPcipUv",
        "outputId": "d5bc0aff-f357-44f2-a715-3c940a54dd18"
      },
      "outputs": [
        {
          "name": "stdout",
          "output_type": "stream",
          "text": [
            "R² Score (Accuracy): 0.8345\n"
          ]
        }
      ],
      "source": [
        "# Evaluation the Model using R²\n",
        "model.eval()  \n",
        "with torch.no_grad():  \n",
        "    y_pred_list = []\n",
        "    y_true_list = []\n",
        "    for batch_X, batch_y in test_loader:\n",
        "        # Get model predictions\n",
        "        y_pred = model(batch_X)\n",
        "        y_pred_list.append(y_pred)\n",
        "        y_true_list.append(batch_y)\n",
        "\n",
        "    # Concatenate all batches into a single tensor\n",
        "    y_pred_tensor = torch.cat(y_pred_list, dim=0)\n",
        "    y_true_tensor = torch.cat(y_true_list, dim=0)\n",
        "\n",
        "    # Calculate R² score (accuracy for regression tasks)\n",
        "    y_pred_numpy = y_pred_tensor.numpy()\n",
        "    y_true_numpy = y_true_tensor.numpy()\n",
        "\n",
        "    r2 = r2_score(y_true_numpy, y_pred_numpy)\n",
        "    print(f'R² Score (Accuracy): {r2:.4f}')"
      ]
    },
    {
      "cell_type": "code",
      "execution_count": 14,
      "metadata": {
        "colab": {
          "base_uri": "https://localhost:8080/"
        },
        "id": "WXqYe30VmBgU",
        "outputId": "f139c5a7-09a4-4351-8155-aecf9cee07c3"
      },
      "outputs": [
        {
          "name": "stdout",
          "output_type": "stream",
          "text": [
            "Predicted Price (Euro): 2222.50\n"
          ]
        }
      ],
      "source": [
        "def custom_test(model, custom_input, preprocessor):\n",
        "\n",
        "    model.eval()  \n",
        "\n",
        "    custom_input_df = pd.DataFrame([custom_input])  # Convert the custom input to a DataFrame\n",
        "\n",
        "    custom_input_preprocessed = preprocessor.transform(custom_input_df)  # Assuming custom_input is a single data point\n",
        "\n",
        "    custom_input_tensor = torch.tensor(custom_input_preprocessed.toarray(), dtype=torch.float32)\n",
        "\n",
        "    with torch.no_grad():  \n",
        "        prediction = model(custom_input_tensor)\n",
        "\n",
        "    print(f'Predicted Price (Euro): {prediction.item():.2f}')\n",
        "\n",
        "# Example custom test\n",
        "custom_input = {\n",
        "    'Company': 'Dell',\n",
        "    'Product': 'XPS 13',\n",
        "    'TypeName': 'Ultrabook',\n",
        "    'Inches': 13.3,\n",
        "    'ScreenResolution': '1920x1080',\n",
        "    'CPU_Company': 'Intel',\n",
        "    'CPU_Type': 'Core i7',\n",
        "    'CPU_Frequency (GHz)': 2.8,\n",
        "    'RAM (GB)': 16,\n",
        "    'Memory': '512GB SSD',\n",
        "    'GPU_Company': 'Intel',\n",
        "    'GPU_Type': 'Intel Iris',\n",
        "    'OpSys': 'Windows 10',\n",
        "    'Weight (kg)': 1.2\n",
        "}\n",
        "\n",
        "custom_test(model, custom_input, preprocessor)"
      ]
    }
  ],
  "metadata": {
    "colab": {
      "provenance": []
    },
    "kernelspec": {
      "display_name": "Python 3",
      "name": "python3"
    },
    "language_info": {
      "name": "python"
    }
  },
  "nbformat": 4,
  "nbformat_minor": 0
}
